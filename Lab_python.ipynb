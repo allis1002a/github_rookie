{
 "cells": [
  {
   "cell_type": "markdown",
   "source": [
    "# 運用集合表示差集聯集"
   ],
   "metadata": {}
  },
  {
   "cell_type": "code",
   "execution_count": 1,
   "source": [
    "admin = {'Justin','Tom'}\n",
    "users = {'Nick','Jhon','Justin'}"
   ],
   "outputs": [],
   "metadata": {}
  },
  {
   "cell_type": "code",
   "execution_count": 2,
   "source": [
    "admin - users #差集"
   ],
   "outputs": [
    {
     "output_type": "execute_result",
     "data": {
      "text/plain": [
       "{'Tom'}"
      ]
     },
     "metadata": {},
     "execution_count": 2
    }
   ],
   "metadata": {}
  },
  {
   "cell_type": "code",
   "execution_count": 3,
   "source": [
    "users - admin  #差集"
   ],
   "outputs": [
    {
     "output_type": "execute_result",
     "data": {
      "text/plain": [
       "{'Jhon', 'Nick'}"
      ]
     },
     "metadata": {},
     "execution_count": 3
    }
   ],
   "metadata": {}
  },
  {
   "cell_type": "code",
   "execution_count": 4,
   "source": [
    "admin & users #交集"
   ],
   "outputs": [
    {
     "output_type": "execute_result",
     "data": {
      "text/plain": [
       "{'Justin'}"
      ]
     },
     "metadata": {},
     "execution_count": 4
    }
   ],
   "metadata": {}
  },
  {
   "cell_type": "code",
   "execution_count": 5,
   "source": [
    "admin | users #聯集"
   ],
   "outputs": [
    {
     "output_type": "execute_result",
     "data": {
      "text/plain": [
       "{'Jhon', 'Justin', 'Nick', 'Tom'}"
      ]
     },
     "metadata": {},
     "execution_count": 5
    }
   ],
   "metadata": {}
  },
  {
   "cell_type": "code",
   "execution_count": 6,
   "source": [
    "admin ^ users #交集以外的 "
   ],
   "outputs": [
    {
     "output_type": "execute_result",
     "data": {
      "text/plain": [
       "{'Jhon', 'Nick', 'Tom'}"
      ]
     },
     "metadata": {},
     "execution_count": 6
    }
   ],
   "metadata": {}
  },
  {
   "cell_type": "code",
   "execution_count": 11,
   "source": [
    "admin > users #檢查自己的set有沒有別人有的元素，有的話=False"
   ],
   "outputs": [
    {
     "output_type": "execute_result",
     "data": {
      "text/plain": [
       "False"
      ]
     },
     "metadata": {},
     "execution_count": 11
    }
   ],
   "metadata": {}
  },
  {
   "cell_type": "code",
   "execution_count": 13,
   "source": [
    "a=10\n",
    "b=3"
   ],
   "outputs": [],
   "metadata": {}
  },
  {
   "cell_type": "code",
   "execution_count": 14,
   "source": [
    "print(a&b) #轉成2進位做AND "
   ],
   "outputs": [
    {
     "output_type": "stream",
     "name": "stdout",
     "text": [
      "2\n"
     ]
    }
   ],
   "metadata": {
    "scrolled": true
   }
  },
  {
   "cell_type": "code",
   "execution_count": 10,
   "source": [
    "admin < users"
   ],
   "outputs": [
    {
     "output_type": "execute_result",
     "data": {
      "text/plain": [
       "False"
      ]
     },
     "metadata": {},
     "execution_count": 10
    }
   ],
   "metadata": {}
  },
  {
   "cell_type": "markdown",
   "source": [
    "# 身份運算"
   ],
   "metadata": {}
  },
  {
   "cell_type": "code",
   "execution_count": 15,
   "source": [
    "w = 1000\n",
    "e = 10**3"
   ],
   "outputs": [],
   "metadata": {}
  },
  {
   "cell_type": "code",
   "execution_count": 16,
   "source": [
    "print(w == e)"
   ],
   "outputs": [
    {
     "output_type": "stream",
     "name": "stdout",
     "text": [
      "True\n"
     ]
    }
   ],
   "metadata": {}
  },
  {
   "cell_type": "code",
   "execution_count": 17,
   "source": [
    "print(w is e) #這會傳記憶體位置，存放的位置不同因此False"
   ],
   "outputs": [
    {
     "output_type": "stream",
     "name": "stdout",
     "text": [
      "False\n"
     ]
    }
   ],
   "metadata": {}
  },
  {
   "cell_type": "markdown",
   "source": [
    "# Python練習一"
   ],
   "metadata": {}
  },
  {
   "cell_type": "markdown",
   "source": [
    "## 請使用者輸入Ｘ的值，並計算 y=10x^3+3x^2+16x"
   ],
   "metadata": {}
  },
  {
   "cell_type": "markdown",
   "source": [
    "## 取得使用者輸入的數值，並轉為整數型態： a= int(input(\"請輸入一個數字:\")); print(a)"
   ],
   "metadata": {}
  },
  {
   "cell_type": "code",
   "execution_count": 27,
   "source": [
    "x = int(input(\"請輸入一個數字：\"))\n",
    "y = 10*x**3+3*x**2+16\n",
    "print(y)"
   ],
   "outputs": [
    {
     "output_type": "stream",
     "name": "stdout",
     "text": [
      "請輸入一個數字：10\n",
      "10316\n"
     ]
    }
   ],
   "metadata": {}
  },
  {
   "cell_type": "markdown",
   "source": [
    "# Python練習二"
   ],
   "metadata": {}
  },
  {
   "cell_type": "markdown",
   "source": [
    "## 使用者輸自己的身高和體重，並計算他的BMI值"
   ],
   "metadata": {}
  },
  {
   "cell_type": "markdown",
   "source": [
    "## BMI計算公式：體重(w)/身高(m)的平方"
   ],
   "metadata": {}
  },
  {
   "cell_type": "code",
   "execution_count": 29,
   "source": [
    "w = int(input(\"請輸入你的體重(公斤)：\"))\n",
    "m = int(input(\"請輸入你的身高(公分)：\"))/100\n",
    "\n",
    "BMI = w/m**2\n",
    "print(BMI)"
   ],
   "outputs": [
    {
     "output_type": "stream",
     "name": "stdout",
     "text": [
      "請輸入你的體重(公斤)：55\n",
      "請輸入你的身高(公分)：165\n",
      "20.202020202020204\n"
     ]
    }
   ],
   "metadata": {}
  },
  {
   "cell_type": "markdown",
   "source": [
    "# 條件式判斷"
   ],
   "metadata": {}
  },
  {
   "cell_type": "code",
   "execution_count": 33,
   "source": [
    "a = 5"
   ],
   "outputs": [],
   "metadata": {}
  },
  {
   "cell_type": "code",
   "execution_count": 36,
   "source": [
    "if a > 10 :\n",
    "    print(\"a > 10\")\n",
    "elif a == 10 :\n",
    "    print(\"a = 10\")\n",
    "else:\n",
    "    print(\"a < 10\")"
   ],
   "outputs": [
    {
     "output_type": "stream",
     "name": "stdout",
     "text": [
      "a < 10\n"
     ]
    }
   ],
   "metadata": {}
  },
  {
   "cell_type": "markdown",
   "source": [
    "# Python練習三\n",
    "## (1)請輸入身高和體重，並計算他的BMI\n",
    "## (2)並印出BMI的範圍，(a)BMI < 18.5 體重過輕 (b)18.5 <=BMI < 24 體重適中 (c) BMI >= 24 體重過重"
   ],
   "metadata": {}
  },
  {
   "cell_type": "code",
   "execution_count": 29,
   "source": [
    "w = int(input(\"請輸入你的體重(公斤)：\"))\n",
    "m = int(input(\"請輸入你的身高(公分)：\"))/100\n",
    "\n",
    "BMI = w/m**2\n",
    "print(BMI)"
   ],
   "outputs": [
    {
     "output_type": "stream",
     "name": "stdout",
     "text": [
      "請輸入你的體重(公斤)：55\n",
      "請輸入你的身高(公分)：165\n",
      "20.202020202020204\n"
     ]
    }
   ],
   "metadata": {}
  },
  {
   "cell_type": "code",
   "execution_count": 37,
   "source": [
    "if BMI< 18.5:\n",
    "    print(\"體重過輕\")\n",
    "elif 18.5 <= BMI < 24 :\n",
    "    print(\"體重適中\")\n",
    "else:\n",
    "    print(\"體重過重\")"
   ],
   "outputs": [
    {
     "output_type": "stream",
     "name": "stdout",
     "text": [
      "體重適中\n"
     ]
    }
   ],
   "metadata": {}
  },
  {
   "cell_type": "markdown",
   "source": [
    "# Python練習四\n",
    "## (1)請使用者輸入一個正整數a\n",
    "## (2)並比較 100*a 或 a**2 哪一個比較大，且請印出數值較大的。"
   ],
   "metadata": {}
  },
  {
   "cell_type": "code",
   "execution_count": 50,
   "source": [
    "U = int(input(\"請輸入一個正整數:\"))\n",
    "U100 = 100*U\n",
    "U2 = U**2"
   ],
   "outputs": [
    {
     "output_type": "stream",
     "name": "stdout",
     "text": [
      "請輸入一個正整數:10\n"
     ]
    }
   ],
   "metadata": {}
  },
  {
   "cell_type": "code",
   "execution_count": 51,
   "source": [
    "if U100 > U2:\n",
    "    print(\"U100比較大:\"+str(U100))\n",
    "elif U100 == U2:\n",
    "    print(\"U100=U2:\"+str(U100))\n",
    "else:\n",
    "    print(\"U2比較大:\"+ str(U2))"
   ],
   "outputs": [
    {
     "output_type": "stream",
     "name": "stdout",
     "text": [
      "U100比較大:1000\n"
     ]
    }
   ],
   "metadata": {}
  },
  {
   "cell_type": "code",
   "execution_count": 47,
   "source": [
    "# ANS 較簡潔"
   ],
   "outputs": [],
   "metadata": {}
  },
  {
   "cell_type": "code",
   "execution_count": 49,
   "source": [
    "ANS = int(input(\"請輸入一個正整數\"))\n",
    "if ANS*100 > ANS**2 :\n",
    "    print(\"ANS100:\"+str(ANS*100))\n",
    "else :\n",
    "    print(\"ANS**2:\"+str(ANS**2))"
   ],
   "outputs": [
    {
     "output_type": "stream",
     "name": "stdout",
     "text": [
      "請輸入一個正整數10\n",
      "ANS100:1000\n"
     ]
    }
   ],
   "metadata": {}
  },
  {
   "cell_type": "markdown",
   "source": [
    "# For 迴圈"
   ],
   "metadata": {}
  },
  {
   "cell_type": "markdown",
   "source": [
    "## 使用list"
   ],
   "metadata": {}
  },
  {
   "cell_type": "code",
   "execution_count": 53,
   "source": [
    "list_sample=[0,1,2,3,4,5]\n",
    "\n",
    "for i in list_sample:\n",
    "    print(i)"
   ],
   "outputs": [
    {
     "output_type": "stream",
     "name": "stdout",
     "text": [
      "0\n",
      "1\n",
      "2\n",
      "3\n",
      "4\n",
      "5\n"
     ]
    }
   ],
   "metadata": {}
  },
  {
   "cell_type": "markdown",
   "source": [
    "# 使用Range"
   ],
   "metadata": {}
  },
  {
   "cell_type": "code",
   "execution_count": 55,
   "source": [
    "for a in range(0,6):\n",
    "    print(a)"
   ],
   "outputs": [
    {
     "output_type": "stream",
     "name": "stdout",
     "text": [
      "0\n",
      "1\n",
      "2\n",
      "3\n",
      "4\n",
      "5\n"
     ]
    }
   ],
   "metadata": {}
  },
  {
   "cell_type": "markdown",
   "source": [
    "# Python練習五\n",
    "## (1)請輸入聖誕樹的層數\n",
    "## (2)並用「＊」印出聖誕樹。"
   ],
   "metadata": {}
  },
  {
   "cell_type": "code",
   "execution_count": 60,
   "source": [
    "j=int(input(\"請輸入樹的層數:\"))\n",
    "\n",
    "for k in range(1,j+1):\n",
    "    print(\"*\"*k)"
   ],
   "outputs": [
    {
     "output_type": "stream",
     "name": "stdout",
     "text": [
      "請輸入樹的層數:10\n",
      "*\n",
      "**\n",
      "***\n",
      "****\n",
      "*****\n",
      "******\n",
      "*******\n",
      "********\n",
      "*********\n",
      "**********\n"
     ]
    }
   ],
   "metadata": {}
  },
  {
   "cell_type": "code",
   "execution_count": 61,
   "source": [
    "a=int(input())\n",
    "for line in range(1,a+1):\n",
    "    text=\"\"\n",
    "    for star in range (0,line):\n",
    "        text+=\"*\"\n",
    "    print(text)"
   ],
   "outputs": [
    {
     "output_type": "stream",
     "name": "stdout",
     "text": [
      "10\n",
      "*\n",
      "**\n",
      "***\n",
      "****\n",
      "*****\n",
      "******\n",
      "*******\n",
      "********\n",
      "*********\n",
      "**********\n"
     ]
    }
   ],
   "metadata": {}
  },
  {
   "cell_type": "markdown",
   "source": [
    "# 倒著聖誕樹"
   ],
   "metadata": {}
  },
  {
   "cell_type": "code",
   "execution_count": 68,
   "source": [
    "j=int(input(\"請輸入樹的層數:\"))\n",
    "\n",
    "for k in range(j,0,-1):\n",
    "    print(\"*\"*k)"
   ],
   "outputs": [
    {
     "output_type": "stream",
     "name": "stdout",
     "text": [
      "請輸入樹的層數:10\n",
      "**********\n",
      "*********\n",
      "********\n",
      "*******\n",
      "******\n",
      "*****\n",
      "****\n",
      "***\n",
      "**\n",
      "*\n"
     ]
    }
   ],
   "metadata": {}
  },
  {
   "cell_type": "code",
   "execution_count": null,
   "source": [],
   "outputs": [],
   "metadata": {}
  },
  {
   "cell_type": "code",
   "execution_count": 69,
   "source": [
    "a=int(input())\n",
    "for line in range(1,a+1):\n",
    "    text=\"\"\n",
    "    for star in range (line,a+1):\n",
    "        text+=\"*\"\n",
    "    print(text)"
   ],
   "outputs": [
    {
     "output_type": "stream",
     "name": "stdout",
     "text": [
      "10\n",
      "**********\n",
      "*********\n",
      "********\n",
      "*******\n",
      "******\n",
      "*****\n",
      "****\n",
      "***\n",
      "**\n",
      "*\n"
     ]
    }
   ],
   "metadata": {}
  },
  {
   "cell_type": "markdown",
   "source": [
    "# Python練習六\n",
    "## (1)country=[\"台北市\",\"台北市\",\"桃園市\",\"台中市\",\"台南市\",\"高雄市\"]\n",
    "## (2)請用for迴圈印出country中的每個元素\n"
   ],
   "metadata": {}
  },
  {
   "cell_type": "code",
   "execution_count": 71,
   "source": [
    "country=[\"台北市\",\"新北市\",\"桃園市\",\"台中市\",\"台南市\",\"高雄市\"]\n",
    "for i in country:\n",
    "    print(i)"
   ],
   "outputs": [
    {
     "output_type": "stream",
     "name": "stdout",
     "text": [
      "台北市\n",
      "台北市\n",
      "桃園市\n",
      "台中市\n",
      "台南市\n",
      "高雄市\n"
     ]
    }
   ],
   "metadata": {}
  },
  {
   "cell_type": "markdown",
   "source": [
    "# Python練習七\n",
    "## (1)country=[\"台北市\",\"新北市\",\"桃園市\",\"台中市\",\"台南市\",\"高雄市\"]\n",
    "## (2)mayor= [\"柯⽂哲\",\"朱⽴倫\",\"鄭⽂燦\",\"林佳龍\",\"賴清德\",\"陳菊\"]\n",
    "## 用for 迴圈印出每個直轄市以及對應的市長名\n"
   ],
   "metadata": {}
  },
  {
   "cell_type": "code",
   "execution_count": 86,
   "source": [
    "country=[\"台北市\",\"新北市\",\"桃園市\",\"台中市\",\"台南市\",\"高雄市\"]\n",
    "mayor= [\"柯⽂哲\",\"朱⽴倫\",\"鄭⽂燦\",\"林佳龍\",\"賴清德\",\"陳菊\"]\n",
    "\n",
    "for i in country:\n",
    "    for j in range(len(country),0):\n",
    "        print(str(country[j])+\"的市長\")"
   ],
   "outputs": [],
   "metadata": {}
  },
  {
   "cell_type": "markdown",
   "source": [
    "# Comprehension"
   ],
   "metadata": {}
  },
  {
   "cell_type": "markdown",
   "source": [
    "## 一般"
   ],
   "metadata": {}
  },
  {
   "cell_type": "code",
   "execution_count": 90,
   "source": [
    "lst=[1,2,3,4,5]\n",
    "lst_sq_c2=[]\n",
    "for num in lst:\n",
    "    if (num%2==0):\n",
    "        lst_sq_c2.append(num**2)\n",
    "print(lst_sq_c2)"
   ],
   "outputs": [
    {
     "output_type": "stream",
     "name": "stdout",
     "text": [
      "[4, 16]\n"
     ]
    }
   ],
   "metadata": {}
  },
  {
   "cell_type": "markdown",
   "source": [
    "## comprehension作法"
   ],
   "metadata": {}
  },
  {
   "cell_type": "code",
   "execution_count": 92,
   "source": [
    "lst=[1,2,3,4,5]\n",
    "lst_sq_c2=[]\n",
    "\n",
    "lst_sq_c2=[num**2 for num in lst if num%2==0]\n",
    "print(lst_sq_c2)"
   ],
   "outputs": [
    {
     "output_type": "stream",
     "name": "stdout",
     "text": [
      "[4, 16]\n"
     ]
    }
   ],
   "metadata": {}
  },
  {
   "cell_type": "markdown",
   "source": [
    "# Python練習八\n",
    "## lst = range(1,101)\n",
    "## 請用comprehension 的方式叫出lst中所有11的倍數\n",
    "\n"
   ],
   "metadata": {}
  },
  {
   "cell_type": "code",
   "execution_count": 98,
   "source": [
    "lst8 = range(1,101)\n",
    "lst8_11=[]\n",
    "\n",
    "lst8_11=[num for num in lst8 if num%11==0]\n",
    "print(lst8_11)"
   ],
   "outputs": [
    {
     "output_type": "stream",
     "name": "stdout",
     "text": [
      "[11, 22, 33, 44, 55, 66, 77, 88, 99]\n"
     ]
    }
   ],
   "metadata": {}
  },
  {
   "cell_type": "markdown",
   "source": [
    "# comprehension巢狀list"
   ],
   "metadata": {}
  },
  {
   "cell_type": "code",
   "execution_count": 111,
   "source": [
    "its = [[1,2,3],[4,5,6],[7,8,9]]\n",
    "new_its = [ele for it in its for ele in it]\n",
    "print(new_its)"
   ],
   "outputs": [
    {
     "output_type": "stream",
     "name": "stdout",
     "text": [
      "[1, 2, 3, 4, 5, 6, 7, 8, 9]\n"
     ]
    }
   ],
   "metadata": {}
  },
  {
   "cell_type": "markdown",
   "source": [
    "# comprehension+Dictionary\n"
   ],
   "metadata": {}
  },
  {
   "cell_type": "code",
   "execution_count": 113,
   "source": [
    "score=[88,90,100,65,78]\n",
    "score_dic={student_id:score for student_id, score in enumerate(score)}\n",
    "#for student_id, score in enumerate(score),enumerate(score)會輸出(1)index(2)value[0:88]"
   ],
   "outputs": [],
   "metadata": {}
  },
  {
   "cell_type": "code",
   "execution_count": 114,
   "source": [
    "print(score_dic)"
   ],
   "outputs": [
    {
     "output_type": "stream",
     "name": "stdout",
     "text": [
      "{0: 88, 1: 90, 2: 100, 3: 65, 4: 78}\n"
     ]
    }
   ],
   "metadata": {}
  },
  {
   "cell_type": "markdown",
   "source": [
    "# comprehension+List"
   ],
   "metadata": {}
  },
  {
   "cell_type": "code",
   "execution_count": 116,
   "source": [
    "names = ['caterpillar','justin','openhome']\n",
    "passwds=[123456,654321,13579]\n",
    "\n",
    "account={names:passwds for names, passwds in zip(names,passwds)} #zip 可將兩個list相同index裡的元素作配對"
   ],
   "outputs": [],
   "metadata": {}
  },
  {
   "cell_type": "code",
   "execution_count": 117,
   "source": [
    "print(account)"
   ],
   "outputs": [
    {
     "output_type": "stream",
     "name": "stdout",
     "text": [
      "{'caterpillar': 123456, 'justin': 654321, 'openhome': 13579}\n"
     ]
    }
   ],
   "metadata": {}
  },
  {
   "cell_type": "markdown",
   "source": [
    "# Python練習九\n",
    "## country = [\"台北市\",\"新北市\",\"桃園市\",\"台中市\",\"台南市\",\"高雄市\"]\n",
    "## mayor= [\"柯文哲\",\"朱立倫\",\"鄭文燦\",\"林佳龍\",\"賴清德\",\"陳菊\"]\n",
    "## 請用comprehension的方式依照陣列裡的順序列出每個直轄市的市長,並存成dictionary格式"
   ],
   "metadata": {}
  },
  {
   "cell_type": "code",
   "execution_count": 119,
   "source": [
    "country = [\"台北市\",\"新北市\",\"桃園市\",\"台中市\",\"台南市\",\"高雄市\"]\n",
    "mayor= [\"柯文哲\",\"朱立倫\",\"鄭文燦\",\"林佳龍\",\"賴清德\",\"陳菊\"]\n",
    "\n",
    "直轄市市長們= {country:mayor for country, mayor in zip(country,mayor)}"
   ],
   "outputs": [],
   "metadata": {}
  },
  {
   "cell_type": "code",
   "execution_count": 120,
   "source": [
    "print(直轄市市長們)"
   ],
   "outputs": [
    {
     "output_type": "stream",
     "name": "stdout",
     "text": [
      "{'台北市': '柯文哲', '新北市': '朱立倫', '桃園市': '鄭文燦', '台中市': '林佳龍', '台南市': '賴清德', '高雄市': '陳菊'}\n"
     ]
    }
   ],
   "metadata": {}
  },
  {
   "cell_type": "markdown",
   "source": [
    "# 猜數字程式 random"
   ],
   "metadata": {}
  },
  {
   "cell_type": "code",
   "execution_count": 133,
   "source": [
    "import random\n",
    "answer = random.randint(0,10)"
   ],
   "outputs": [],
   "metadata": {}
  },
  {
   "cell_type": "code",
   "execution_count": 134,
   "source": [
    "print(answer)"
   ],
   "outputs": [
    {
     "output_type": "stream",
     "name": "stdout",
     "text": [
      "0\n"
     ]
    }
   ],
   "metadata": {}
  },
  {
   "cell_type": "code",
   "execution_count": 135,
   "source": [
    "while answer != int(user_guess):\n",
    "    user_guess = input(\"使用者猜：\")\n",
    "print(\"恭喜猜中了！\") "
   ],
   "outputs": [
    {
     "output_type": "stream",
     "name": "stdout",
     "text": [
      "使用者猜：11\n",
      "使用者猜：2\n",
      "使用者猜：3\n",
      "使用者猜：5\n",
      "使用者猜：76\n",
      "使用者猜：3\n",
      "使用者猜：4\n",
      "使用者猜：0\n",
      "恭喜猜中了！\n"
     ]
    }
   ],
   "metadata": {}
  },
  {
   "cell_type": "markdown",
   "source": [
    "# 讀取檔案 (1)"
   ],
   "metadata": {}
  },
  {
   "cell_type": "code",
   "execution_count": 137,
   "source": [
    "# f = open(\"name.txt\") \n",
    "# content = f.read()\n",
    "# print(content)\n",
    "# f.close()#有開就要有關，不然容易出現錯誤。"
   ],
   "outputs": [
    {
     "output_type": "error",
     "ename": "FileNotFoundError",
     "evalue": "[Errno 2] No such file or directory: 'name.txt'",
     "traceback": [
      "\u001b[0;31m---------------------------------------------------------------------------\u001b[0m",
      "\u001b[0;31mFileNotFoundError\u001b[0m                         Traceback (most recent call last)",
      "\u001b[0;32m<ipython-input-137-cc67db9ce393>\u001b[0m in \u001b[0;36m<module>\u001b[0;34m\u001b[0m\n\u001b[0;32m----> 1\u001b[0;31m \u001b[0mf\u001b[0m \u001b[0;34m=\u001b[0m \u001b[0mopen\u001b[0m\u001b[0;34m(\u001b[0m\u001b[0;34m\"name.txt\"\u001b[0m\u001b[0;34m)\u001b[0m\u001b[0;34m\u001b[0m\u001b[0;34m\u001b[0m\u001b[0m\n\u001b[0m\u001b[1;32m      2\u001b[0m \u001b[0mcontent\u001b[0m \u001b[0;34m=\u001b[0m \u001b[0mf\u001b[0m\u001b[0;34m.\u001b[0m\u001b[0mread\u001b[0m\u001b[0;34m(\u001b[0m\u001b[0;34m)\u001b[0m\u001b[0;34m\u001b[0m\u001b[0;34m\u001b[0m\u001b[0m\n",
      "\u001b[0;31mFileNotFoundError\u001b[0m: [Errno 2] No such file or directory: 'name.txt'"
     ]
    }
   ],
   "metadata": {}
  },
  {
   "cell_type": "markdown",
   "source": [
    "# 讀取檔案 (2)\n",
    "## open(\"name.txt\",\"r\") #單純讀檔\n",
    "## open(\"name.txt\",\"w\") #寫入檔案而且會覆蓋之前的紀錄\n",
    "## open(\"name.txt\",\"a\") #寫入檔案,把新的內容附加在後面"
   ],
   "metadata": {}
  },
  {
   "cell_type": "code",
   "execution_count": 138,
   "source": [
    "# with open('/path/to/file_name') as f:\n",
    "#     print(f.read())"
   ],
   "outputs": [],
   "metadata": {}
  },
  {
   "cell_type": "code",
   "execution_count": 139,
   "source": [
    "# with open('/path/to/file_name') as f:\n",
    "#     for line in f.readlines():\n",
    "#         print(line.strip) #把句尾的'\\n'刪掉"
   ],
   "outputs": [],
   "metadata": {}
  },
  {
   "cell_type": "code",
   "execution_count": 162,
   "source": [
    "list = \"hello world!\"\n",
    "with open('hello.txt','w') as f:\n",
    "    f.write(list + \"\\n\")"
   ],
   "outputs": [],
   "metadata": {}
  },
  {
   "cell_type": "code",
   "execution_count": 163,
   "source": [
    "with open('hello.txt','r') as f:\n",
    "    print(f.read())"
   ],
   "outputs": [
    {
     "output_type": "stream",
     "name": "stdout",
     "text": [
      "hello world!\n",
      "\n"
     ]
    }
   ],
   "metadata": {}
  },
  {
   "cell_type": "code",
   "execution_count": 164,
   "source": [
    "list2 = \"ohla!\"\n",
    "with open('hello.txt','a') as f:\n",
    "    f.write(list2 + \"\\n\")"
   ],
   "outputs": [],
   "metadata": {}
  },
  {
   "cell_type": "code",
   "execution_count": 170,
   "source": [
    "with open('hello.txt','r') as f:\n",
    "    print(f.read())\n",
    "    f.seek(0) #從頭開始印,index指向0\n",
    "    print(f.read())"
   ],
   "outputs": [
    {
     "output_type": "stream",
     "name": "stdout",
     "text": [
      "hello world!\n",
      "ohla!\n",
      "\n",
      "hello world!\n",
      "ohla!\n",
      "\n"
     ]
    }
   ],
   "metadata": {}
  },
  {
   "cell_type": "code",
   "execution_count": 172,
   "source": [
    "f.close()"
   ],
   "outputs": [],
   "metadata": {}
  },
  {
   "cell_type": "markdown",
   "source": [
    "# string "
   ],
   "metadata": {}
  },
  {
   "cell_type": "code",
   "execution_count": 183,
   "source": [
    "strA = \"how do you turn this on\"\n",
    "print(strA.split(\" \"))\n",
    "strB = \"1,2,3,4,5,6,7\"\n",
    "print(strB.split(\",\"))"
   ],
   "outputs": [
    {
     "output_type": "stream",
     "name": "stdout",
     "text": [
      "['how', 'do', 'you', 'turn', 'this', 'on']\n",
      "['1', '2', '3', '4', '5', '6', '7']\n"
     ]
    }
   ],
   "metadata": {}
  },
  {
   "cell_type": "markdown",
   "source": [
    "# python練習10 - 讀取檔案"
   ],
   "metadata": {}
  },
  {
   "cell_type": "markdown",
   "source": [
    "# 試著把下面的list寫進country.txt的檔案中，每印出一個城市名字就換一行。"
   ],
   "metadata": {}
  },
  {
   "cell_type": "markdown",
   "source": [
    "# country = [\"台北市\", \"新北市\",\"桃園市\",\"台中市\",\"台南市\",\"高雄市\" ]"
   ],
   "metadata": {}
  },
  {
   "cell_type": "code",
   "execution_count": 173,
   "source": [
    "country = [\"台北市\",\"新北市\",\"桃園市\",\"台中市\",\"台南市\",\"高雄市\"]\n",
    "mayor= [\"柯文哲\",\"朱立倫\",\"鄭文燦\",\"林佳龍\",\"賴清德\",\"陳菊\"]\n",
    "\n",
    "直轄市市長們= {country:mayor for country, mayor in zip(country,mayor)}"
   ],
   "outputs": [],
   "metadata": {}
  },
  {
   "cell_type": "code",
   "execution_count": 176,
   "source": [
    "with open('hello.text','w') as f :\n",
    "    for countryN, mayorN in 直轄市市長們.items():\n",
    "        f.write(countryN + \":\" + mayorN + \"\\n\")"
   ],
   "outputs": [],
   "metadata": {}
  },
  {
   "cell_type": "markdown",
   "source": [
    "# object - 未精簡化"
   ],
   "metadata": {}
  },
  {
   "cell_type": "code",
   "execution_count": null,
   "source": [
    "def accountTotal(name, propertyList):\n",
    "        return {\"name\":name, \"propertyTotal\":sum(propertyList)}\n",
    "def addProperty(propertyList, newValue):\n",
    "        propertyList.append(newValue)\n",
    "        return propertyList"
   ],
   "outputs": [],
   "metadata": {}
  },
  {
   "cell_type": "code",
   "execution_count": null,
   "source": [
    "class bank:\n",
    "\n",
    "        self.propertyTotal=propertyTotal"
   ],
   "outputs": [],
   "metadata": {}
  },
  {
   "cell_type": "markdown",
   "source": [
    "# object - 精簡化"
   ],
   "metadata": {}
  },
  {
   "cell_type": "code",
   "execution_count": 160,
   "source": [
    "class ba"
   ],
   "outputs": [
    {
     "output_type": "error",
     "ename": "SyntaxError",
     "evalue": "invalid syntax (<ipython-input-160-f7bf0db19a1e>, line 8)",
     "traceback": [
      "\u001b[0;36m  File \u001b[0;32m\"<ipython-input-160-f7bf0db19a1e>\"\u001b[0;36m, line \u001b[0;32m8\u001b[0m\n\u001b[0;31m    propertyList.append(newValue)return propertyList\u001b[0m\n\u001b[0m                                 ^\u001b[0m\n\u001b[0;31mSyntaxError\u001b[0m\u001b[0;31m:\u001b[0m invalid syntax\n"
     ]
    }
   ],
   "metadata": {}
  },
  {
   "cell_type": "code",
   "execution_count": 159,
   "source": [],
   "outputs": [],
   "metadata": {}
  }
 ],
 "metadata": {
  "kernelspec": {
   "display_name": "Python 3",
   "language": "python",
   "name": "python3"
  },
  "language_info": {
   "codemirror_mode": {
    "name": "ipython",
    "version": 3
   },
   "file_extension": ".py",
   "mimetype": "text/x-python",
   "name": "python",
   "nbconvert_exporter": "python",
   "pygments_lexer": "ipython3",
   "version": "3.8.8"
  }
 },
 "nbformat": 4,
 "nbformat_minor": 5
}