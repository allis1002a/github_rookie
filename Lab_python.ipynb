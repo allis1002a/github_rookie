{
 "cells": [
  {
   "cell_type": "markdown",
   "id": "37d34016",
   "metadata": {},
   "source": [
    "# 運用集合表示差集聯集"
   ]
  },
  {
   "cell_type": "code",
   "execution_count": 1,
   "id": "7f89e2c6",
   "metadata": {},
   "outputs": [],
   "source": [
    "admin = {'Justin','Tom'}\n",
    "users = {'Nick','Jhon','Justin'}"
   ]
  },
  {
   "cell_type": "code",
   "execution_count": 2,
   "id": "cbd0500a",
   "metadata": {},
   "outputs": [
    {
     "data": {
      "text/plain": [
       "{'Tom'}"
      ]
     },
     "execution_count": 2,
     "metadata": {},
     "output_type": "execute_result"
    }
   ],
   "source": [
    "admin - users #差集"
   ]
  },
  {
   "cell_type": "code",
   "execution_count": 3,
   "id": "dfb50532",
   "metadata": {},
   "outputs": [
    {
     "data": {
      "text/plain": [
       "{'Jhon', 'Nick'}"
      ]
     },
     "execution_count": 3,
     "metadata": {},
     "output_type": "execute_result"
    }
   ],
   "source": [
    "users - admin  #差集"
   ]
  },
  {
   "cell_type": "code",
   "execution_count": 4,
   "id": "ab94886d",
   "metadata": {},
   "outputs": [
    {
     "data": {
      "text/plain": [
       "{'Justin'}"
      ]
     },
     "execution_count": 4,
     "metadata": {},
     "output_type": "execute_result"
    }
   ],
   "source": [
    "admin & users #交集"
   ]
  },
  {
   "cell_type": "code",
   "execution_count": 5,
   "id": "bd27bd92",
   "metadata": {},
   "outputs": [
    {
     "data": {
      "text/plain": [
       "{'Jhon', 'Justin', 'Nick', 'Tom'}"
      ]
     },
     "execution_count": 5,
     "metadata": {},
     "output_type": "execute_result"
    }
   ],
   "source": [
    "admin | users #聯集"
   ]
  },
  {
   "cell_type": "code",
   "execution_count": 6,
   "id": "3580f4f5",
   "metadata": {},
   "outputs": [
    {
     "data": {
      "text/plain": [
       "{'Jhon', 'Nick', 'Tom'}"
      ]
     },
     "execution_count": 6,
     "metadata": {},
     "output_type": "execute_result"
    }
   ],
   "source": [
    "admin ^ users #交集以外的 "
   ]
  },
  {
   "cell_type": "code",
   "execution_count": 11,
   "id": "b554f980",
   "metadata": {},
   "outputs": [
    {
     "data": {
      "text/plain": [
       "False"
      ]
     },
     "execution_count": 11,
     "metadata": {},
     "output_type": "execute_result"
    }
   ],
   "source": [
    "admin > users #檢查自己的set有沒有別人有的元素，有的話=False"
   ]
  },
  {
   "cell_type": "code",
   "execution_count": 13,
   "id": "e8be99f0",
   "metadata": {},
   "outputs": [],
   "source": [
    "a=10\n",
    "b=3"
   ]
  },
  {
   "cell_type": "code",
   "execution_count": 14,
   "id": "425939cf",
   "metadata": {
    "scrolled": true
   },
   "outputs": [
    {
     "name": "stdout",
     "output_type": "stream",
     "text": [
      "2\n"
     ]
    }
   ],
   "source": [
    "print(a&b) #轉成2進位做AND "
   ]
  },
  {
   "cell_type": "code",
   "execution_count": 10,
   "id": "d14cb517",
   "metadata": {},
   "outputs": [
    {
     "data": {
      "text/plain": [
       "False"
      ]
     },
     "execution_count": 10,
     "metadata": {},
     "output_type": "execute_result"
    }
   ],
   "source": [
    "admin < users"
   ]
  },
  {
   "cell_type": "markdown",
   "id": "1744d14c",
   "metadata": {},
   "source": [
    "# 身份運算"
   ]
  },
  {
   "cell_type": "code",
   "execution_count": 15,
   "id": "564c9b85",
   "metadata": {},
   "outputs": [],
   "source": [
    "w = 1000\n",
    "e = 10**3"
   ]
  },
  {
   "cell_type": "code",
   "execution_count": 16,
   "id": "49f56064",
   "metadata": {},
   "outputs": [
    {
     "name": "stdout",
     "output_type": "stream",
     "text": [
      "True\n"
     ]
    }
   ],
   "source": [
    "print(w == e)"
   ]
  },
  {
   "cell_type": "code",
   "execution_count": 17,
   "id": "91dd251a",
   "metadata": {},
   "outputs": [
    {
     "name": "stdout",
     "output_type": "stream",
     "text": [
      "False\n"
     ]
    }
   ],
   "source": [
    "print(w is e) #這會傳記憶體位置，存放的位置不同因此False"
   ]
  },
  {
   "cell_type": "markdown",
   "id": "a97d54b9",
   "metadata": {},
   "source": [
    "# Python練習一"
   ]
  },
  {
   "cell_type": "markdown",
   "id": "8965d6fa",
   "metadata": {},
   "source": [
    "## 請使用者輸入Ｘ的值，並計算 y=10x^3+3x^2+16x"
   ]
  },
  {
   "cell_type": "markdown",
   "id": "87ce77b8",
   "metadata": {},
   "source": [
    "## 取得使用者輸入的數值，並轉為整數型態： a= int(input(\"請輸入一個數字:\")); print(a)"
   ]
  },
  {
   "cell_type": "code",
   "execution_count": 27,
   "id": "1d24b258",
   "metadata": {},
   "outputs": [
    {
     "name": "stdout",
     "output_type": "stream",
     "text": [
      "請輸入一個數字：10\n",
      "10316\n"
     ]
    }
   ],
   "source": [
    "x = int(input(\"請輸入一個數字：\"))\n",
    "y = 10*x**3+3*x**2+16\n",
    "print(y)"
   ]
  },
  {
   "cell_type": "markdown",
   "id": "f65222c5",
   "metadata": {},
   "source": [
    "# Python練習二"
   ]
  },
  {
   "cell_type": "markdown",
   "id": "cca6807d",
   "metadata": {},
   "source": [
    "## 使用者輸自己的身高和體重，並計算他的BMI值"
   ]
  },
  {
   "cell_type": "markdown",
   "id": "2edb3798",
   "metadata": {},
   "source": [
    "## BMI計算公式：體重(w)/身高(m)的平方"
   ]
  },
  {
   "cell_type": "code",
   "execution_count": 29,
   "id": "8416aeb0",
   "metadata": {},
   "outputs": [
    {
     "name": "stdout",
     "output_type": "stream",
     "text": [
      "請輸入你的體重(公斤)：55\n",
      "請輸入你的身高(公分)：165\n",
      "20.202020202020204\n"
     ]
    }
   ],
   "source": [
    "w = int(input(\"請輸入你的體重(公斤)：\"))\n",
    "m = int(input(\"請輸入你的身高(公分)：\"))/100\n",
    "\n",
    "BMI = w/m**2\n",
    "print(BMI)"
   ]
  },
  {
   "cell_type": "markdown",
   "id": "117374d1",
   "metadata": {},
   "source": [
    "# 條件式判斷"
   ]
  },
  {
   "cell_type": "code",
   "execution_count": 33,
   "id": "07e58998",
   "metadata": {},
   "outputs": [],
   "source": [
    "a = 5"
   ]
  },
  {
   "cell_type": "code",
   "execution_count": 36,
   "id": "47474078",
   "metadata": {},
   "outputs": [
    {
     "name": "stdout",
     "output_type": "stream",
     "text": [
      "a < 10\n"
     ]
    }
   ],
   "source": [
    "if a > 10 :\n",
    "    print(\"a > 10\")\n",
    "elif a == 10 :\n",
    "    print(\"a = 10\")\n",
    "else:\n",
    "    print(\"a < 10\")"
   ]
  },
  {
   "cell_type": "markdown",
   "id": "c194b6aa",
   "metadata": {},
   "source": [
    "# Python練習三\n",
    "## (1)請輸入身高和體重，並計算他的BMI\n",
    "## (2)並印出BMI的範圍，(a)BMI < 18.5 體重過輕 (b)18.5 <=BMI < 24 體重適中 (c) BMI >= 24 體重過重"
   ]
  },
  {
   "cell_type": "code",
   "execution_count": 29,
   "id": "dba246d6",
   "metadata": {},
   "outputs": [
    {
     "name": "stdout",
     "output_type": "stream",
     "text": [
      "請輸入你的體重(公斤)：55\n",
      "請輸入你的身高(公分)：165\n",
      "20.202020202020204\n"
     ]
    }
   ],
   "source": [
    "w = int(input(\"請輸入你的體重(公斤)：\"))\n",
    "m = int(input(\"請輸入你的身高(公分)：\"))/100\n",
    "\n",
    "BMI = w/m**2\n",
    "print(BMI)"
   ]
  },
  {
   "cell_type": "code",
   "execution_count": 37,
   "id": "be7305b1",
   "metadata": {},
   "outputs": [
    {
     "name": "stdout",
     "output_type": "stream",
     "text": [
      "體重適中\n"
     ]
    }
   ],
   "source": [
    "if BMI< 18.5:\n",
    "    print(\"體重過輕\")\n",
    "elif 18.5 <= BMI < 24 :\n",
    "    print(\"體重適中\")\n",
    "else:\n",
    "    print(\"體重過重\")"
   ]
  },
  {
   "cell_type": "markdown",
   "id": "cca24ccc",
   "metadata": {},
   "source": [
    "# Python練習四\n",
    "## (1)請使用者輸入一個正整數a\n",
    "## (2)並比較 100*a 或 a**2 哪一個比較大，且請印出數值較大的。"
   ]
  },
  {
   "cell_type": "code",
   "execution_count": 50,
   "id": "ccba9559",
   "metadata": {},
   "outputs": [
    {
     "name": "stdout",
     "output_type": "stream",
     "text": [
      "請輸入一個正整數:10\n"
     ]
    }
   ],
   "source": [
    "U = int(input(\"請輸入一個正整數:\"))\n",
    "U100 = 100*U\n",
    "U2 = U**2"
   ]
  },
  {
   "cell_type": "code",
   "execution_count": 51,
   "id": "d9bf9407",
   "metadata": {},
   "outputs": [
    {
     "name": "stdout",
     "output_type": "stream",
     "text": [
      "U100比較大:1000\n"
     ]
    }
   ],
   "source": [
    "if U100 > U2:\n",
    "    print(\"U100比較大:\"+str(U100))\n",
    "elif U100 == U2:\n",
    "    print(\"U100=U2:\"+str(U100))\n",
    "else:\n",
    "    print(\"U2比較大:\"+ str(U2))"
   ]
  },
  {
   "cell_type": "code",
   "execution_count": 47,
   "id": "5e299dff",
   "metadata": {},
   "outputs": [],
   "source": [
    "# ANS 較簡潔"
   ]
  },
  {
   "cell_type": "code",
   "execution_count": 49,
   "id": "2f4f6b40",
   "metadata": {},
   "outputs": [
    {
     "name": "stdout",
     "output_type": "stream",
     "text": [
      "請輸入一個正整數10\n",
      "ANS100:1000\n"
     ]
    }
   ],
   "source": [
    "ANS = int(input(\"請輸入一個正整數\"))\n",
    "if ANS*100 > ANS**2 :\n",
    "    print(\"ANS100:\"+str(ANS*100))\n",
    "else :\n",
    "    print(\"ANS**2:\"+str(ANS**2))"
   ]
  },
  {
   "cell_type": "markdown",
   "id": "348b5666",
   "metadata": {},
   "source": [
    "# For 迴圈"
   ]
  },
  {
   "cell_type": "markdown",
   "id": "ac1938e7",
   "metadata": {},
   "source": [
    "## 使用list"
   ]
  },
  {
   "cell_type": "code",
   "execution_count": 53,
   "id": "c3b974dc",
   "metadata": {},
   "outputs": [
    {
     "name": "stdout",
     "output_type": "stream",
     "text": [
      "0\n",
      "1\n",
      "2\n",
      "3\n",
      "4\n",
      "5\n"
     ]
    }
   ],
   "source": [
    "list_sample=[0,1,2,3,4,5]\n",
    "\n",
    "for i in list_sample:\n",
    "    print(i)"
   ]
  },
  {
   "cell_type": "markdown",
   "id": "b4f91300",
   "metadata": {},
   "source": [
    "# 使用Range"
   ]
  },
  {
   "cell_type": "code",
   "execution_count": 55,
   "id": "ecbb6832",
   "metadata": {},
   "outputs": [
    {
     "name": "stdout",
     "output_type": "stream",
     "text": [
      "0\n",
      "1\n",
      "2\n",
      "3\n",
      "4\n",
      "5\n"
     ]
    }
   ],
   "source": [
    "for a in range(0,6):\n",
    "    print(a)"
   ]
  },
  {
   "cell_type": "markdown",
   "id": "42d4a1b5",
   "metadata": {},
   "source": [
    "# Python練習五\n",
    "## (1)請輸入聖誕樹的層數\n",
    "## (2)並用「＊」印出聖誕樹。"
   ]
  },
  {
   "cell_type": "code",
   "execution_count": 60,
   "id": "201597fc",
   "metadata": {},
   "outputs": [
    {
     "name": "stdout",
     "output_type": "stream",
     "text": [
      "請輸入樹的層數:10\n",
      "*\n",
      "**\n",
      "***\n",
      "****\n",
      "*****\n",
      "******\n",
      "*******\n",
      "********\n",
      "*********\n",
      "**********\n"
     ]
    }
   ],
   "source": [
    "j=int(input(\"請輸入樹的層數:\"))\n",
    "\n",
    "for k in range(1,j+1):\n",
    "    print(\"*\"*k)"
   ]
  },
  {
   "cell_type": "code",
   "execution_count": 61,
   "id": "df87674d",
   "metadata": {},
   "outputs": [
    {
     "name": "stdout",
     "output_type": "stream",
     "text": [
      "10\n",
      "*\n",
      "**\n",
      "***\n",
      "****\n",
      "*****\n",
      "******\n",
      "*******\n",
      "********\n",
      "*********\n",
      "**********\n"
     ]
    }
   ],
   "source": [
    "a=int(input())\n",
    "for line in range(1,a+1):\n",
    "    text=\"\"\n",
    "    for star in range (0,line):\n",
    "        text+=\"*\"\n",
    "    print(text)"
   ]
  },
  {
   "cell_type": "markdown",
   "id": "1fd1c3ce",
   "metadata": {},
   "source": [
    "# 倒著聖誕樹"
   ]
  },
  {
   "cell_type": "code",
   "execution_count": 68,
   "id": "a1f7e182",
   "metadata": {},
   "outputs": [
    {
     "name": "stdout",
     "output_type": "stream",
     "text": [
      "請輸入樹的層數:10\n",
      "**********\n",
      "*********\n",
      "********\n",
      "*******\n",
      "******\n",
      "*****\n",
      "****\n",
      "***\n",
      "**\n",
      "*\n"
     ]
    }
   ],
   "source": [
    "j=int(input(\"請輸入樹的層數:\"))\n",
    "\n",
    "for k in range(j,0,-1):\n",
    "    print(\"*\"*k)"
   ]
  },
  {
   "cell_type": "code",
   "execution_count": null,
   "id": "d7de1ebb",
   "metadata": {},
   "outputs": [],
   "source": []
  },
  {
   "cell_type": "code",
   "execution_count": 69,
   "id": "1a672b39",
   "metadata": {},
   "outputs": [
    {
     "name": "stdout",
     "output_type": "stream",
     "text": [
      "10\n",
      "**********\n",
      "*********\n",
      "********\n",
      "*******\n",
      "******\n",
      "*****\n",
      "****\n",
      "***\n",
      "**\n",
      "*\n"
     ]
    }
   ],
   "source": [
    "a=int(input())\n",
    "for line in range(1,a+1):\n",
    "    text=\"\"\n",
    "    for star in range (line,a+1):\n",
    "        text+=\"*\"\n",
    "    print(text)"
   ]
  },
  {
   "cell_type": "markdown",
   "id": "01c55313",
   "metadata": {},
   "source": [
    "# Python練習六\n",
    "## (1)country=[\"台北市\",\"台北市\",\"桃園市\",\"台中市\",\"台南市\",\"高雄市\"]\n",
    "## (2)請用for迴圈印出country中的每個元素\n"
   ]
  },
  {
   "cell_type": "code",
   "execution_count": 71,
   "id": "86035fdb",
   "metadata": {},
   "outputs": [
    {
     "name": "stdout",
     "output_type": "stream",
     "text": [
      "台北市\n",
      "台北市\n",
      "桃園市\n",
      "台中市\n",
      "台南市\n",
      "高雄市\n"
     ]
    }
   ],
   "source": [
    "country=[\"台北市\",\"新北市\",\"桃園市\",\"台中市\",\"台南市\",\"高雄市\"]\n",
    "for i in country:\n",
    "    print(i)"
   ]
  },
  {
   "cell_type": "markdown",
   "id": "dc195ba7",
   "metadata": {},
   "source": [
    "# Python練習七\n",
    "## (1)country=[\"台北市\",\"新北市\",\"桃園市\",\"台中市\",\"台南市\",\"高雄市\"]\n",
    "## (2)mayor= [\"柯⽂哲\",\"朱⽴倫\",\"鄭⽂燦\",\"林佳龍\",\"賴清德\",\"陳菊\"]\n",
    "## 用for 迴圈印出每個直轄市以及對應的市長名\n"
   ]
  },
  {
   "cell_type": "code",
   "execution_count": 86,
   "id": "808f80a3",
   "metadata": {},
   "outputs": [],
   "source": [
    "country=[\"台北市\",\"新北市\",\"桃園市\",\"台中市\",\"台南市\",\"高雄市\"]\n",
    "mayor= [\"柯⽂哲\",\"朱⽴倫\",\"鄭⽂燦\",\"林佳龍\",\"賴清德\",\"陳菊\"]\n",
    "\n",
    "for i in country:\n",
    "    for j in range(len(country),0):\n",
    "        print(str(country[j])+\"的市長\")"
   ]
  },
  {
   "cell_type": "markdown",
   "id": "557e39ce",
   "metadata": {},
   "source": [
    "# Comprehension"
   ]
  },
  {
   "cell_type": "markdown",
   "id": "171c21cd",
   "metadata": {},
   "source": [
    "## 一般"
   ]
  },
  {
   "cell_type": "code",
   "execution_count": 90,
   "id": "47b30816",
   "metadata": {},
   "outputs": [
    {
     "name": "stdout",
     "output_type": "stream",
     "text": [
      "[4, 16]\n"
     ]
    }
   ],
   "source": [
    "lst=[1,2,3,4,5]\n",
    "lst_sq_c2=[]\n",
    "for num in lst:\n",
    "    if (num%2==0):\n",
    "        lst_sq_c2.append(num**2)\n",
    "print(lst_sq_c2)"
   ]
  },
  {
   "cell_type": "markdown",
   "id": "021c0afc",
   "metadata": {},
   "source": [
    "## comprehension作法"
   ]
  },
  {
   "cell_type": "code",
   "execution_count": 92,
   "id": "ec902a3c",
   "metadata": {},
   "outputs": [
    {
     "name": "stdout",
     "output_type": "stream",
     "text": [
      "[4, 16]\n"
     ]
    }
   ],
   "source": [
    "lst=[1,2,3,4,5]\n",
    "lst_sq_c2=[]\n",
    "\n",
    "lst_sq_c2=[num**2 for num in lst if num%2==0]\n",
    "print(lst_sq_c2)"
   ]
  },
  {
   "cell_type": "markdown",
   "id": "520da3ec",
   "metadata": {},
   "source": [
    "# Python練習八\n",
    "## lst = range(1,101)\n",
    "## 請用comprehension 的方式叫出lst中所有11的倍數\n",
    "\n"
   ]
  },
  {
   "cell_type": "code",
   "execution_count": 98,
   "id": "72074a4c",
   "metadata": {},
   "outputs": [
    {
     "name": "stdout",
     "output_type": "stream",
     "text": [
      "[11, 22, 33, 44, 55, 66, 77, 88, 99]\n"
     ]
    }
   ],
   "source": [
    "lst8 = range(1,101)\n",
    "lst8_11=[]\n",
    "\n",
    "lst8_11=[num for num in lst8 if num%11==0]\n",
    "print(lst8_11)"
   ]
  },
  {
   "cell_type": "markdown",
   "id": "cdb3716d",
   "metadata": {},
   "source": [
    "# comprehension巢狀list"
   ]
  },
  {
   "cell_type": "code",
   "execution_count": 111,
   "id": "2e833e8d",
   "metadata": {},
   "outputs": [
    {
     "name": "stdout",
     "output_type": "stream",
     "text": [
      "[1, 2, 3, 4, 5, 6, 7, 8, 9]\n"
     ]
    }
   ],
   "source": [
    "its = [[1,2,3],[4,5,6],[7,8,9]]\n",
    "new_its = [ele for it in its for ele in it]\n",
    "print(new_its)"
   ]
  },
  {
   "cell_type": "markdown",
   "id": "a986ab04",
   "metadata": {},
   "source": [
    "# comprehension+Dictionary\n"
   ]
  },
  {
   "cell_type": "code",
   "execution_count": 113,
   "id": "d309c0a1",
   "metadata": {},
   "outputs": [],
   "source": [
    "score=[88,90,100,65,78]\n",
    "score_dic={student_id:score for student_id, score in enumerate(score)}\n",
    "#for student_id, score in enumerate(score),enumerate(score)會輸出(1)index(2)value[0:88]"
   ]
  },
  {
   "cell_type": "code",
   "execution_count": 114,
   "id": "d3cc8881",
   "metadata": {},
   "outputs": [
    {
     "name": "stdout",
     "output_type": "stream",
     "text": [
      "{0: 88, 1: 90, 2: 100, 3: 65, 4: 78}\n"
     ]
    }
   ],
   "source": [
    "print(score_dic)"
   ]
  },
  {
   "cell_type": "markdown",
   "id": "a5424580",
   "metadata": {},
   "source": [
    "# comprehension+List"
   ]
  },
  {
   "cell_type": "code",
   "execution_count": 116,
   "id": "c9a348f8",
   "metadata": {},
   "outputs": [],
   "source": [
    "names = ['caterpillar','justin','openhome']\n",
    "passwds=[123456,654321,13579]\n",
    "\n",
    "account={names:passwds for names, passwds in zip(names,passwds)} #zip 可將兩個list相同index裡的元素作配對"
   ]
  },
  {
   "cell_type": "code",
   "execution_count": 117,
   "id": "27dc416d",
   "metadata": {},
   "outputs": [
    {
     "name": "stdout",
     "output_type": "stream",
     "text": [
      "{'caterpillar': 123456, 'justin': 654321, 'openhome': 13579}\n"
     ]
    }
   ],
   "source": [
    "print(account)"
   ]
  },
  {
   "cell_type": "markdown",
   "id": "5fb7d3f8",
   "metadata": {},
   "source": [
    "# Python練習九\n",
    "## country = [\"台北市\",\"新北市\",\"桃園市\",\"台中市\",\"台南市\",\"高雄市\"]\n",
    "## mayor= [\"柯文哲\",\"朱立倫\",\"鄭文燦\",\"林佳龍\",\"賴清德\",\"陳菊\"]\n",
    "## 請用comprehension的方式依照陣列裡的順序列出每個直轄市的市長,並存成dictionary格式"
   ]
  },
  {
   "cell_type": "code",
   "execution_count": 119,
   "id": "58d3967a",
   "metadata": {},
   "outputs": [],
   "source": [
    "country = [\"台北市\",\"新北市\",\"桃園市\",\"台中市\",\"台南市\",\"高雄市\"]\n",
    "mayor= [\"柯文哲\",\"朱立倫\",\"鄭文燦\",\"林佳龍\",\"賴清德\",\"陳菊\"]\n",
    "\n",
    "直轄市市長們= {country:mayor for country, mayor in zip(country,mayor)}"
   ]
  },
  {
   "cell_type": "code",
   "execution_count": 120,
   "id": "a0b6ce47",
   "metadata": {},
   "outputs": [
    {
     "name": "stdout",
     "output_type": "stream",
     "text": [
      "{'台北市': '柯文哲', '新北市': '朱立倫', '桃園市': '鄭文燦', '台中市': '林佳龍', '台南市': '賴清德', '高雄市': '陳菊'}\n"
     ]
    }
   ],
   "source": [
    "print(直轄市市長們)"
   ]
  },
  {
   "cell_type": "markdown",
   "id": "055079be",
   "metadata": {},
   "source": [
    "# 猜數字程式 random"
   ]
  },
  {
   "cell_type": "code",
   "execution_count": 133,
   "id": "93d0cb4b",
   "metadata": {},
   "outputs": [],
   "source": [
    "import random\n",
    "answer = random.randint(0,10)"
   ]
  },
  {
   "cell_type": "code",
   "execution_count": 134,
   "id": "ab183c8c",
   "metadata": {},
   "outputs": [
    {
     "name": "stdout",
     "output_type": "stream",
     "text": [
      "0\n"
     ]
    }
   ],
   "source": [
    "print(answer)"
   ]
  },
  {
   "cell_type": "code",
   "execution_count": 135,
   "id": "52cbd735",
   "metadata": {},
   "outputs": [
    {
     "name": "stdout",
     "output_type": "stream",
     "text": [
      "使用者猜：11\n",
      "使用者猜：2\n",
      "使用者猜：3\n",
      "使用者猜：5\n",
      "使用者猜：76\n",
      "使用者猜：3\n",
      "使用者猜：4\n",
      "使用者猜：0\n",
      "恭喜猜中了！\n"
     ]
    }
   ],
   "source": [
    "while answer != int(user_guess):\n",
    "    user_guess = input(\"使用者猜：\")\n",
    "print(\"恭喜猜中了！\") "
   ]
  },
  {
   "cell_type": "markdown",
   "id": "6d5c309f",
   "metadata": {},
   "source": [
    "# 讀取檔案 (1)"
   ]
  },
  {
   "cell_type": "code",
   "execution_count": 137,
   "id": "3407f5a6",
   "metadata": {},
   "outputs": [
    {
     "ename": "FileNotFoundError",
     "evalue": "[Errno 2] No such file or directory: 'name.txt'",
     "output_type": "error",
     "traceback": [
      "\u001b[0;31m---------------------------------------------------------------------------\u001b[0m",
      "\u001b[0;31mFileNotFoundError\u001b[0m                         Traceback (most recent call last)",
      "\u001b[0;32m<ipython-input-137-cc67db9ce393>\u001b[0m in \u001b[0;36m<module>\u001b[0;34m\u001b[0m\n\u001b[0;32m----> 1\u001b[0;31m \u001b[0mf\u001b[0m \u001b[0;34m=\u001b[0m \u001b[0mopen\u001b[0m\u001b[0;34m(\u001b[0m\u001b[0;34m\"name.txt\"\u001b[0m\u001b[0;34m)\u001b[0m\u001b[0;34m\u001b[0m\u001b[0;34m\u001b[0m\u001b[0m\n\u001b[0m\u001b[1;32m      2\u001b[0m \u001b[0mcontent\u001b[0m \u001b[0;34m=\u001b[0m \u001b[0mf\u001b[0m\u001b[0;34m.\u001b[0m\u001b[0mread\u001b[0m\u001b[0;34m(\u001b[0m\u001b[0;34m)\u001b[0m\u001b[0;34m\u001b[0m\u001b[0;34m\u001b[0m\u001b[0m\n",
      "\u001b[0;31mFileNotFoundError\u001b[0m: [Errno 2] No such file or directory: 'name.txt'"
     ]
    }
   ],
   "source": [
    "# f = open(\"name.txt\") \n",
    "# content = f.read()\n",
    "# print(content)\n",
    "# f.close()#有開就要有關，不然容易出現錯誤。"
   ]
  },
  {
   "cell_type": "markdown",
   "id": "ef7f9bc4",
   "metadata": {},
   "source": [
    "# 讀取檔案 (2)\n",
    "## open(\"name.txt\",\"r\") #單純讀檔\n",
    "## open(\"name.txt\",\"w\") #寫入檔案而且會覆蓋之前的紀錄\n",
    "## open(\"name.txt\",\"a\") #寫入檔案,把新的內容附加在後面"
   ]
  },
  {
   "cell_type": "code",
   "execution_count": 138,
   "id": "2ed2ec10",
   "metadata": {},
   "outputs": [],
   "source": [
    "# with open('/path/to/file_name') as f:\n",
    "#     print(f.read())"
   ]
  },
  {
   "cell_type": "code",
   "execution_count": 139,
   "id": "fd283a8f",
   "metadata": {},
   "outputs": [],
   "source": [
    "# with open('/path/to/file_name') as f:\n",
    "#     for line in f.readlines():\n",
    "#         print(line.strip) #把句尾的'\\n'刪掉"
   ]
  },
  {
   "cell_type": "code",
   "execution_count": 162,
   "id": "988251b4",
   "metadata": {},
   "outputs": [],
   "source": [
    "list = \"hello world!\"\n",
    "with open('hello.txt','w') as f:\n",
    "    f.write(list + \"\\n\")"
   ]
  },
  {
   "cell_type": "code",
   "execution_count": 163,
   "id": "153ae30e",
   "metadata": {},
   "outputs": [
    {
     "name": "stdout",
     "output_type": "stream",
     "text": [
      "hello world!\n",
      "\n"
     ]
    }
   ],
   "source": [
    "with open('hello.txt','r') as f:\n",
    "    print(f.read())"
   ]
  },
  {
   "cell_type": "code",
   "execution_count": 164,
   "id": "3876b323",
   "metadata": {},
   "outputs": [],
   "source": [
    "list2 = \"ohla!\"\n",
    "with open('hello.txt','a') as f:\n",
    "    f.write(list2 + \"\\n\")"
   ]
  },
  {
   "cell_type": "code",
   "execution_count": 170,
   "id": "aac598fb",
   "metadata": {},
   "outputs": [
    {
     "name": "stdout",
     "output_type": "stream",
     "text": [
      "hello world!\n",
      "ohla!\n",
      "\n",
      "hello world!\n",
      "ohla!\n",
      "\n"
     ]
    }
   ],
   "source": [
    "with open('hello.txt','r') as f:\n",
    "    print(f.read())\n",
    "    f.seek(0) #從頭開始印,index指向0\n",
    "    print(f.read())"
   ]
  },
  {
   "cell_type": "code",
   "execution_count": 172,
   "id": "254924f6",
   "metadata": {},
   "outputs": [],
   "source": [
    "f.close()"
   ]
  },
  {
   "cell_type": "markdown",
   "id": "f5fe3bb2",
   "metadata": {},
   "source": [
    "# string "
   ]
  },
  {
   "cell_type": "code",
   "execution_count": 183,
   "id": "f1ca30ba",
   "metadata": {},
   "outputs": [
    {
     "name": "stdout",
     "output_type": "stream",
     "text": [
      "['how', 'do', 'you', 'turn', 'this', 'on']\n",
      "['1', '2', '3', '4', '5', '6', '7']\n"
     ]
    }
   ],
   "source": [
    "strA = \"how do you turn this on\"\n",
    "print(strA.split(\" \"))\n",
    "strB = \"1,2,3,4,5,6,7\"\n",
    "print(strB.split(\",\"))"
   ]
  },
  {
   "cell_type": "markdown",
   "id": "af1897c6",
   "metadata": {},
   "source": [
    "# python練習10 - 讀取檔案"
   ]
  },
  {
   "cell_type": "markdown",
   "id": "5a06cf2a",
   "metadata": {},
   "source": [
    "# 試著把下面的list寫進country.txt的檔案中，每印出一個城市名字就換一行。"
   ]
  },
  {
   "cell_type": "markdown",
   "id": "5464cb54",
   "metadata": {},
   "source": [
    "# country = [\"台北市\", \"新北市\",\"桃園市\",\"台中市\",\"台南市\",\"高雄市\" ]"
   ]
  },
  {
   "cell_type": "code",
   "execution_count": 173,
   "id": "384efe45",
   "metadata": {},
   "outputs": [],
   "source": [
    "country = [\"台北市\",\"新北市\",\"桃園市\",\"台中市\",\"台南市\",\"高雄市\"]\n",
    "mayor= [\"柯文哲\",\"朱立倫\",\"鄭文燦\",\"林佳龍\",\"賴清德\",\"陳菊\"]\n",
    "\n",
    "直轄市市長們= {country:mayor for country, mayor in zip(country,mayor)}"
   ]
  },
  {
   "cell_type": "code",
   "execution_count": 176,
   "id": "cdd70c78",
   "metadata": {},
   "outputs": [],
   "source": [
    "with open('hello.text','w') as f :\n",
    "    for countryN, mayorN in 直轄市市長們.items():\n",
    "        f.write(countryN + \":\" + mayorN + \"\\n\")"
   ]
  },
  {
   "cell_type": "markdown",
   "id": "34b7d4a8",
   "metadata": {},
   "source": [
    "# object - 未精簡化"
   ]
  },
  {
   "cell_type": "code",
   "execution_count": null,
   "id": "b6ddb0f3",
   "metadata": {},
   "outputs": [],
   "source": [
    "def accountTotal(name, propertyList):\n",
    "        return {\"name\":name, \"propertyTotal\":sum(propertyList)}\n",
    "def addProperty(propertyList, newValue):\n",
    "        propertyList.append(newValue)\n",
    "        return propertyList"
   ]
  },
  {
   "cell_type": "code",
   "execution_count": null,
   "id": "d4cc41ae",
   "metadata": {},
   "outputs": [],
   "source": [
    "class bank:\n",
    "    def __iniit__(self,name,propertyTotal):\n",
    "        self.name=name\n",
    "        self.propertyTotal=propertyTotal"
   ]
  },
  {
   "cell_type": "markdown",
   "id": "1683b861",
   "metadata": {},
   "source": [
    "# object - 精簡化"
   ]
  },
  {
   "cell_type": "code",
   "execution_count": 160,
   "id": "3fabd329",
   "metadata": {},
   "outputs": [
    {
     "ename": "SyntaxError",
     "evalue": "invalid syntax (<ipython-input-160-f7bf0db19a1e>, line 8)",
     "output_type": "error",
     "traceback": [
      "\u001b[0;36m  File \u001b[0;32m\"<ipython-input-160-f7bf0db19a1e>\"\u001b[0;36m, line \u001b[0;32m8\u001b[0m\n\u001b[0;31m    propertyList.append(newValue)return propertyList\u001b[0m\n\u001b[0m                                 ^\u001b[0m\n\u001b[0;31mSyntaxError\u001b[0m\u001b[0;31m:\u001b[0m invalid syntax\n"
     ]
    }
   ],
   "source": [
    "class bank:\n",
    "    def __iniit__(self,name,propertyTotal):\n",
    "        self.name=name\n",
    "        self.propertyTotal=propertyTotal\n",
    "    def accountTotal(self): #傳入的參數都一樣，因此用self代替\n",
    "        return {\"name\":self.name, \"propertyTotal\":self.propertyTotal}\n",
    "    def addProperty(propertyList, newValue):\n",
    "        propertyList.append(newValue)return propertyList"
   ]
  },
  {
   "cell_type": "code",
   "execution_count": 159,
   "id": "0674b89b",
   "metadata": {},
   "outputs": [],
   "source": []
  }
 ],
 "metadata": {
  "kernelspec": {
   "display_name": "Python 3",
   "language": "python",
   "name": "python3"
  },
  "language_info": {
   "codemirror_mode": {
    "name": "ipython",
    "version": 3
   },
   "file_extension": ".py",
   "mimetype": "text/x-python",
   "name": "python",
   "nbconvert_exporter": "python",
   "pygments_lexer": "ipython3",
   "version": "3.8.8"
  }
 },
 "nbformat": 4,
 "nbformat_minor": 5
}
